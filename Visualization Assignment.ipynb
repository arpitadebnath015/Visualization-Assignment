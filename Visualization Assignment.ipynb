{
 "cells": [
  {
   "cell_type": "code",
   "execution_count": null,
   "id": "25b4c57d-0bf3-4569-aec6-cd7488e9580a",
   "metadata": {},
   "outputs": [],
   "source": [
    "# Matplotlib Assignment"
   ]
  },
  {
   "cell_type": "code",
   "execution_count": null,
   "id": "2ea260e1-330e-4658-8890-7d5f3fe3e50e",
   "metadata": {},
   "outputs": [],
   "source": [
    "#1. Create a scatter plot using Matplotlib to visualize the relationship between two arrays, x and y for the given data\n",
    "# x = [1, 2, 3, 4, 5, 6, 7, 8, 9, 10]\n",
    "# y = [2, 4, 5, 7, 6, 8, 9, 10, 12, 13]\n",
    "\n",
    "import pandas as pd\n",
    "import numpy as np\n",
    "import matplotlib.pyplot as plt\n",
    "\n",
    "x = [1, 2, 3, 4, 5, 6, 7, 8, 9, 10]\n",
    "y = [2, 4, 5, 7, 6, 8, 9, 10, 12, 13]\n",
    "plt.scatter(x,y,c=\"red\",marker='o')\n",
    "\n",
    "plt.title(\"Scatter plot of x and y array\") \n",
    "plt.xlabel(\"x axis\")\n",
    "plt.ylabel(\"y axis\")\n",
    "plt.show()"
   ]
  },
  {
   "cell_type": "code",
   "execution_count": null,
   "id": "79d5a407-144d-4a08-af97-d544d2b220ba",
   "metadata": {},
   "outputs": [],
   "source": [
    "# 2. Generate a line plot to visualize the trend of values for the given data.\n",
    "# data = np.array([3, 7, 9, 15, 22, 29, 35])\n",
    "\n",
    "data = np.array([3, 7, 9, 15, 22, 29, 35])\n",
    "plt.plot(data,marker='o',linewidth=2,markersize=5)\n",
    "plt.show()"
   ]
  },
  {
   "cell_type": "code",
   "execution_count": null,
   "id": "bc7f971a-8cad-4671-be05-4234b203e3c5",
   "metadata": {},
   "outputs": [],
   "source": [
    "# 3. Display a bar chart to represent the frequency of each item in the given array categories.\n",
    "# categories = ['A', 'B', 'C', 'D', 'E']\n",
    "# values = [25, 40, 30, 35, 20]\n",
    "\n",
    "categories = ['A', 'B', 'C', 'D', 'E']\n",
    "values = [25, 40, 30, 35, 20]\n",
    "plt.bar(categories,values,color=\"green\",width=0.5)\n",
    "\n",
    "plt.title(\"Bar chart for different categories\")\n",
    "plt.xlabel(\"Categories\")\n",
    "plt.ylabel(\"Values\")\n",
    "plt.show()"
   ]
  },
  {
   "cell_type": "code",
   "execution_count": null,
   "id": "f0217757-3477-44c2-a421-08b7e63c7ed1",
   "metadata": {},
   "outputs": [],
   "source": [
    "# 4. Create a histogram to visualize the distribution of values in the array data.\n",
    "# data = np.random.normal(0, 1, 1000)\n",
    "\n",
    "data = np.random.normal(0, 1, 1000)\n",
    "plt.hist(data,color='violet',edgecolor=\"black\",bins=20)\n",
    "plt.show()"
   ]
  },
  {
   "cell_type": "code",
   "execution_count": null,
   "id": "854f03e1-8ed5-4bf8-a73e-c9092041ebca",
   "metadata": {},
   "outputs": [],
   "source": [
    "# 5. Show a pie chart to represent the percentage distribution of different sections in the array `sections`.\n",
    "# sections = ['Section A', 'Section B', 'Section C', 'Section D']\n",
    "# sizes = [25, 30, 15, 30]\n",
    "\n",
    "sections = ['Section A', 'Section B', 'Section C', 'Section D']\n",
    "sizes = [25, 30, 15, 30]\n",
    "explode=(0.0,0.1,0.1,0.1)\n",
    "plt.pie(sizes,labels=sections,autopct='%1.1f%%',explode=explode,shadow= True)\n",
    "plt.show()"
   ]
  },
  {
   "cell_type": "code",
   "execution_count": null,
   "id": "6dcfc75c-9aad-43bb-846c-02648ea51970",
   "metadata": {},
   "outputs": [],
   "source": [
    "# Seaborn Assignment"
   ]
  },
  {
   "cell_type": "code",
   "execution_count": null,
   "id": "5be0e7b2-d33c-404a-b724-09dce4fe2a02",
   "metadata": {},
   "outputs": [],
   "source": [
    "#1.Create a scatter plot to visualize the relationship between two variables,by generating a synthetic dataset. \n",
    "\n",
    "import seaborn as sns\n",
    "df=sns.load_dataset(\"tips\")\n",
    "sns.scatterplot(x=df.total_bill,y=df.tip,data=df)"
   ]
  },
  {
   "cell_type": "code",
   "execution_count": null,
   "id": "5d819da4-0cac-4e75-a45f-91631a3148dc",
   "metadata": {},
   "outputs": [],
   "source": [
    "#2.Generate a set of random numbers.Visualize the distribution of numerical variables.\n",
    "\n",
    "np.random.seed(1)\n",
    "data=np.random.normal(size=1000,loc=10)\n",
    "sns.displot(data,kde=True)"
   ]
  },
  {
   "cell_type": "code",
   "execution_count": null,
   "id": "41c1ea45-a4ea-4899-b9ae-7597dc7cede4",
   "metadata": {},
   "outputs": [],
   "source": [
    "#3.Create a dataset representing categories and their corresponding values. Compare different categories based on numerical values.\n",
    "\n",
    "df=sns.load_dataset(\"tips\")\n",
    "sns.catplot(x='day',y='total_bill',hue='sex',kind=\"swarm\",data=df)"
   ]
  },
  {
   "cell_type": "code",
   "execution_count": null,
   "id": "1e95f28b-1308-4934-b81d-89c3101811e9",
   "metadata": {},
   "outputs": [],
   "source": [
    "#4.Generate a dataset with categories and numerical values. Visualize the distribution of a numerical variable across different categories.\n",
    " \n",
    "df=sns.load_dataset(\"tips\")\n",
    "sns.catplot(x='day',y='total_bill',data=df,kind='violin')"
   ]
  },
  {
   "cell_type": "code",
   "execution_count": null,
   "id": "b4f1fbd4-5179-47c0-aeaf-489b2ec98fe0",
   "metadata": {},
   "outputs": [],
   "source": [
    "#5.Generate a synthetic dataset with correlated features. Visualize the correlation matrix of a dataset using a heatmap.\n",
    "\n",
    "import matplotlib.pyplot as mp\n",
    "df=sns.load_dataset(\"tips\")\n",
    "df=df[['total_bill','tip','size']]\n",
    "df.corr()\n",
    "sb_plot=sns.heatmap(df.corr(),cmap=\"coolwarm\",annot=True)\n",
    "mp.show()"
   ]
  },
  {
   "cell_type": "code",
   "execution_count": null,
   "id": "1847ea1a-3117-402a-909a-9385dd7001b3",
   "metadata": {},
   "outputs": [],
   "source": [
    "# Plotly Assignment"
   ]
  },
  {
   "cell_type": "code",
   "execution_count": null,
   "id": "737e413c-69e7-4bf3-b020-6cd13e307349",
   "metadata": {},
   "outputs": [],
   "source": [
    "# 1. Using the given dataset, to generate a 3D scatter plot to visualize the distribution of data points in a threedimensional space.\n",
    "\n",
    "import numpy as np\n",
    "import pandas as pd\n",
    "import plotly.graph_objects as go\n",
    "import plotly.express as px\n",
    "\n",
    "np.random.seed(30)\n",
    "data = {\n",
    "    'X': np.random.uniform(-10, 10, 300),\n",
    "    'Y': np.random.uniform(-10, 10, 300),\n",
    "    'Z': np.random.uniform(-10, 10, 300)\n",
    "}\n",
    "df = pd.DataFrame(data)\n",
    "\n",
    "fig=px.scatter_3d(df,x='X',y='Y',z='Z')\n",
    "fig.show()"
   ]
  },
  {
   "cell_type": "code",
   "execution_count": null,
   "id": "f680f54a-8dfd-4e7c-b140-4baece092bd7",
   "metadata": {},
   "outputs": [],
   "source": [
    "# 2. Using the Student Grades, create a violin plot to display the distribution of scores across different grade categories.\n",
    "\n",
    "np.random.seed(15)\n",
    "data = {\n",
    "    'Grade': np.random.choice(['A', 'B', 'C', 'D', 'F'], 200),\n",
    "    'Score': np.random.randint(50, 100, 200)\n",
    "}\n",
    "df = pd.DataFrame(data)\n",
    "plot=px.violin(x=df['Grade'],y=df['Score'])\n",
    "plot.show()"
   ]
  },
  {
   "cell_type": "code",
   "execution_count": null,
   "id": "7fe11dac-e6c6-45e7-9600-ce65eeab8654",
   "metadata": {},
   "outputs": [],
   "source": [
    "# 3. Using the sales data, generate a heatmap to visualize the variation in sales across different months and days.\n",
    "\n",
    "np.random.seed(20)\n",
    "data = {\n",
    "    'Month': np.random.choice(['Jan', 'Feb', 'Mar', 'Apr', 'May'], 100),\n",
    "    'Day': np.random.choice(range(1, 31), 100),\n",
    "    'Sales': np.random.randint(1000, 5000, 100)\n",
    "}\n",
    "df = pd.DataFrame(data)\n",
    "fig=px.imshow(df,aspect=\"auto\")\n",
    "fig.show()"
   ]
  },
  {
   "cell_type": "code",
   "execution_count": null,
   "id": "8d9ec195-b0e4-4fb2-8de0-c2a4379fb9af",
   "metadata": {},
   "outputs": [],
   "source": [
    "# 4. Using the given x and y data, generate a 3D surface plot to visualize the function sin(sqrt(x**2 + y**2)) ",
    " ",
    "\n",
    "\n",
    "x = np.linspace(-5, 5, 100)\n",
    "y = np.linspace(-5, 5, 100)\n",
    "x, y = np.meshgrid(x, y)\n",
    "z = np.sin(np.sqrt(x**2 + y**2))\n",
    "data = {\n",
    "    'X': x.flatten(),\n",
    "    'Y': y.flatten(),\n",
    "    'Z': z.flatten()\n",
    "}\n",
    "df = pd.DataFrame(data)\n",
    "\n",
    "fig=go.Figure(data=[go.Surface(x=x,y=y,z=z)])\n",
    "fig.update_traces(contours_z=dict(show=True,usecolormap=True,highlightcolor=\"limegreen\",project_z=True))\n",
    "fig.show()"
   ]
  },
  {
   "cell_type": "code",
   "execution_count": null,
   "id": "18560d6d-353c-4ba5-84c0-cf4dd3092278",
   "metadata": {},
   "outputs": [],
   "source": [
    "# 5. Using the given dataset, create a bubble chart to represent each country's population (y-axis), GDP (xaxis), and bubble size proportional to the population.5. Using the given dataset, create a bubble chart to represent each country's population (y-axis), GDP (xaxis), and bubble size proportional to the population.\n",
    "\n",
    "np.random.seed(25)\n",
    "data = {\n",
    "    'Country': ['USA', 'Canada', 'UK',\n",
    "'Germany', 'France'],\n",
    "    'Population':\n",
    "np.random.randint(100, 1000, 5),\n",
    "    'GDP': np.random.randint(500, 2000,\n",
    "5)\n",
    "}\n",
    "df = pd.DataFrame(data)\n",
    "\n",
    "fig=px.scatter(df,x='GDP',y='Population',size='Population',hover_data=['Country'])\n",
    "fig.show()"
   ]
  },
  {
   "cell_type": "code",
   "execution_count": null,
   "id": "63ea3097-2b17-4f27-b737-73c2378a9bac",
   "metadata": {},
   "outputs": [],
   "source": [
    "# Bokeh Assignment"
   ]
  },
  {
   "cell_type": "code",
   "execution_count": null,
   "id": "35dbf987-c7b1-4752-b35a-3e00e5adc44c",
   "metadata": {},
   "outputs": [],
   "source": [
    "#1.Create a Bokeh plot displaying a sine wave. Set x-values from 0 to 10 and y-values as the sine of x.\n",
    "\n",
    "import numpy as np\n",
    "import bokeh.io\n",
    "import bokeh.plotting\n",
    "bokeh.io.output_notebook()\n",
    "\n",
    "from bokeh.plotting import figure,output_file,show\n",
    "x=np.arange(0,10,0.05)\n",
    "y=np.sin(x)\n",
    "output_file(\"sample.html\")\n",
    "p=figure(title=\"sine wave\",x_axis_label='X',y_axis_label='Y')\n",
    "p.line(x,y,line_width=2)\n",
    "show(p)"
   ]
  },
  {
   "cell_type": "code",
   "execution_count": null,
   "id": "5a94fd8a-bae3-4ea9-8bf3-272661228863",
   "metadata": {},
   "outputs": [],
   "source": [
    "#2.Create a Bokeh scatter plot using randomly generated x and y values. Use different sizes and colors for the markers based on the 'sizes' and 'colors' columns.\n",
    "\n",
    "\n",
    "import random\n",
    "import numpy as np\n",
    "np.random.seed(20)\n",
    "x=np.random.uniform(1,2,5)\n",
    "y=np.random.uniform(1,2,5)\n",
    "output_file(\"line.html\")\n",
    "p=figure(title=\"Scatter plot\",x_axis_label=\"X\",y_axis_label=\"Y\")\n",
    "p.scatter(x,y,size=[20,25,30,35,40],color=[\"blue\",\"red\",\"pink\",\"purple\",\"yellow\"])\n",
    "show(p)"
   ]
  },
  {
   "cell_type": "code",
   "execution_count": null,
   "id": "519e1577-57de-44da-9562-e4f2d5b5f766",
   "metadata": {},
   "outputs": [],
   "source": [
    "#3.Generate a Bokeh bar chart representing the counts of different fruits using the following dataset.\n",
    "#fruits = ['Apples', 'Oranges', 'Bananas', 'Pears'] ",
    "\n",
    "#counts = [20, 25, 30, 35]\n",
    "\n",
    "from bokeh.plotting import figure,show\n",
    "fruits = ['Apples', 'Oranges', 'Bananas', 'Pears']\n",
    "counts = [20, 25, 30, 35]\n",
    "p=figure(x_range=fruits,height=350,title=\"Fruit counts\",toolbar_location=None,tools=\"\")\n",
    "p.vbar(x=fruits,top=counts,width=0.9)\n",
    "p.xgrid.grid_line_color=None\n",
    "p.y_range.start=0\n",
    "show(p)"
   ]
  },
  {
   "cell_type": "code",
   "execution_count": null,
   "id": "cb161ebc-daed-4eb1-871b-ee9e27bdba2e",
   "metadata": {},
   "outputs": [],
   "source": [
    "#4.Create a Bokeh histogram to visualize the distribution of the given data.\n",
    "#data_hist = np.random.randn(1000) ",
    "\n",
    "#hist, edges = np.histogram(data_hist, bins=30)\n",
    "\n",
    "import numpy as np\n",
    "from bokeh.plotting import figure,show\n",
    "from bokeh.io import output_file,save\n",
    "data_hist = np.random.randn(1000)\n",
    "p=figure(width=470,height=400,toolbar_location=None,title=\"histogram\")\n",
    "hist, edges = np.histogram(data_hist, bins=30)\n",
    "p.quad(top=hist,bottom=0,left=edges[:-1],right=edges[1:],fill_color=\"purple\",line_color=\"white\",legend_label=\"abc\")\n",
    "p.y_range.start=0\n",
    "p.xaxis.axis_label=\"x\"\n",
    "p.yaxis.axis_label=\"y\"\n",
    "output_file(\"output.html\")\n",
    "show(p)"
   ]
  },
  {
   "cell_type": "code",
   "execution_count": null,
   "id": "a8e6e8aa-4b3a-46a0-87f2-23cceb25d22a",
   "metadata": {},
   "outputs": [],
   "source": [
    "#5. Create a Bokeh heatmap using the provided dataset\n",
    "# data_heatmap = np.random.rand(10, 10) ",
    "\n",
    "# x = np.linspace(0, 1, 10) ",
    "\n",
    "# y = np.linspace(0, 1, 10) ",
    "\n",
    "# xx, yy = np.meshgrid(x, y)\n",
    "\n",
    "\n",
    "from bokeh.plotting import figure,output_file,show\n",
    "from bokeh.sampledata.autompg import autompg\n",
    "from bokeh.charts import HeatMap,show\n",
    "\n",
    "data_heatmap = np.random.rand(10, 10)\n",
    "x = np.linspace(0, 1, 10)\n",
    "y = np.linspace(0, 1, 10)\n",
    "xx, yy = np.meshgrid(x, y)\n",
    "\n",
    "hm=HeatMap(data_heatmap,x=x,y=y,stat=None)\n",
    "show(hm)"
   ]
  },
  {
   "cell_type": "code",
   "execution_count": null,
   "id": "9002c5d8-b428-4be8-a401-2defb1e53265",
   "metadata": {},
   "outputs": [],
   "source": []
  },
  {
   "cell_type": "code",
   "execution_count": null,
   "id": "a799f96b-3c7c-44cd-a10f-5d72cbde9c00",
   "metadata": {},
   "outputs": [],
   "source": []
  }
 ],
 "metadata": {
  "kernelspec": {
   "display_name": "Python 3 (ipykernel)",
   "language": "python",
   "name": "python3"
  },
  "language_info": {
   "codemirror_mode": {
    "name": "ipython",
    "version": 3
   },
   "file_extension": ".py",
   "mimetype": "text/x-python",
   "name": "python",
   "nbconvert_exporter": "python",
   "pygments_lexer": "ipython3",
   "version": "3.12.4"
  }
 },
 "nbformat": 4,
 "nbformat_minor": 5
}
